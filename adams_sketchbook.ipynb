{
 "cells": [
  {
   "cell_type": "code",
   "execution_count": 1,
   "metadata": {},
   "outputs": [],
   "source": [
    "import numpy as np\n",
    "import pandas as pd\n",
    "import unicodedata\n",
    "import re\n",
    "import nltk\n",
    "\n",
    "from nltk.tokenize.toktok import ToktokTokenizer\n",
    "from nltk.corpus import stopwords\n",
    "import prepare\n",
    "# nltk.download('wordnet') - needed to run to download 'wordnet' resource to use lemmatize function"
   ]
  },
  {
   "cell_type": "code",
   "execution_count": 2,
   "metadata": {},
   "outputs": [
    {
     "data": {
      "text/html": [
       "<div>\n",
       "<style scoped>\n",
       "    .dataframe tbody tr th:only-of-type {\n",
       "        vertical-align: middle;\n",
       "    }\n",
       "\n",
       "    .dataframe tbody tr th {\n",
       "        vertical-align: top;\n",
       "    }\n",
       "\n",
       "    .dataframe thead th {\n",
       "        text-align: right;\n",
       "    }\n",
       "</style>\n",
       "<table border=\"1\" class=\"dataframe\">\n",
       "  <thead>\n",
       "    <tr style=\"text-align: right;\">\n",
       "      <th></th>\n",
       "      <th>repo</th>\n",
       "      <th>language</th>\n",
       "      <th>readme_contents</th>\n",
       "    </tr>\n",
       "  </thead>\n",
       "  <tbody>\n",
       "    <tr>\n",
       "      <th>0</th>\n",
       "      <td>gocodeup/codeup-setup-script</td>\n",
       "      <td>Shell</td>\n",
       "      <td># Codeup Setup Script\\n\\nSetup script for Code...</td>\n",
       "    </tr>\n",
       "    <tr>\n",
       "      <th>1</th>\n",
       "      <td>gocodeup/movies-application</td>\n",
       "      <td>JavaScript</td>\n",
       "      <td># Movies Application\\n\\nFor this project, we w...</td>\n",
       "    </tr>\n",
       "    <tr>\n",
       "      <th>2</th>\n",
       "      <td>torvalds/linux</td>\n",
       "      <td>C</td>\n",
       "      <td>Linux kernel\\n============\\n\\nThere are severa...</td>\n",
       "    </tr>\n",
       "    <tr>\n",
       "      <th>3</th>\n",
       "      <td>beetbox/beets</td>\n",
       "      <td>Python</td>\n",
       "      <td>.. image:: https://img.shields.io/pypi/v/beets...</td>\n",
       "    </tr>\n",
       "    <tr>\n",
       "      <th>4</th>\n",
       "      <td>scottschiller/SoundManager2</td>\n",
       "      <td>JavaScript</td>\n",
       "      <td># SoundManager 2: JavaScript Sound for the Web...</td>\n",
       "    </tr>\n",
       "    <tr>\n",
       "      <th>...</th>\n",
       "      <td>...</td>\n",
       "      <td>...</td>\n",
       "      <td>...</td>\n",
       "    </tr>\n",
       "    <tr>\n",
       "      <th>107</th>\n",
       "      <td>fastai/courses</td>\n",
       "      <td>Jupyter Notebook</td>\n",
       "      <td># Practical Deep Learning for Coders (fast.ai ...</td>\n",
       "    </tr>\n",
       "    <tr>\n",
       "      <th>108</th>\n",
       "      <td>Yorko/mlcourse.ai</td>\n",
       "      <td>Python</td>\n",
       "      <td>&lt;div align=\"center\"&gt;\\n\\n![ODS stickers](https:...</td>\n",
       "    </tr>\n",
       "    <tr>\n",
       "      <th>109</th>\n",
       "      <td>jtoy/awesome-tensorflow</td>\n",
       "      <td>None</td>\n",
       "      <td># Awesome TensorFlow  [![Awesome](https://cdn....</td>\n",
       "    </tr>\n",
       "    <tr>\n",
       "      <th>110</th>\n",
       "      <td>nlintz/TensorFlow-Tutorials</td>\n",
       "      <td>Jupyter Notebook</td>\n",
       "      <td># TensorFlow-Tutorials\\n[![Build Status](https...</td>\n",
       "    </tr>\n",
       "    <tr>\n",
       "      <th>111</th>\n",
       "      <td>pkmital/tensorflow_tutorials</td>\n",
       "      <td>Jupyter Notebook</td>\n",
       "      <td># UPDATE (July 12, 2016)\\n\\nNew **free MOOC co...</td>\n",
       "    </tr>\n",
       "  </tbody>\n",
       "</table>\n",
       "<p>112 rows × 3 columns</p>\n",
       "</div>"
      ],
      "text/plain": [
       "                             repo          language  \\\n",
       "0    gocodeup/codeup-setup-script             Shell   \n",
       "1     gocodeup/movies-application        JavaScript   \n",
       "2                  torvalds/linux                 C   \n",
       "3                   beetbox/beets            Python   \n",
       "4     scottschiller/SoundManager2        JavaScript   \n",
       "..                            ...               ...   \n",
       "107                fastai/courses  Jupyter Notebook   \n",
       "108             Yorko/mlcourse.ai            Python   \n",
       "109       jtoy/awesome-tensorflow              None   \n",
       "110   nlintz/TensorFlow-Tutorials  Jupyter Notebook   \n",
       "111  pkmital/tensorflow_tutorials  Jupyter Notebook   \n",
       "\n",
       "                                       readme_contents  \n",
       "0    # Codeup Setup Script\\n\\nSetup script for Code...  \n",
       "1    # Movies Application\\n\\nFor this project, we w...  \n",
       "2    Linux kernel\\n============\\n\\nThere are severa...  \n",
       "3    .. image:: https://img.shields.io/pypi/v/beets...  \n",
       "4    # SoundManager 2: JavaScript Sound for the Web...  \n",
       "..                                                 ...  \n",
       "107  # Practical Deep Learning for Coders (fast.ai ...  \n",
       "108  <div align=\"center\">\\n\\n![ODS stickers](https:...  \n",
       "109  # Awesome TensorFlow  [![Awesome](https://cdn....  \n",
       "110  # TensorFlow-Tutorials\\n[![Build Status](https...  \n",
       "111  # UPDATE (July 12, 2016)\\n\\nNew **free MOOC co...  \n",
       "\n",
       "[112 rows x 3 columns]"
      ]
     },
     "execution_count": 2,
     "metadata": {},
     "output_type": "execute_result"
    }
   ],
   "source": [
    "df = pd.read_json('data.json')\n",
    "df"
   ]
  },
  {
   "cell_type": "code",
   "execution_count": 3,
   "metadata": {},
   "outputs": [],
   "source": [
    "df = prepare.prep_data(df, 'readme_contents')"
   ]
  },
  {
   "cell_type": "code",
   "execution_count": 4,
   "metadata": {},
   "outputs": [
    {
     "data": {
      "text/html": [
       "<div>\n",
       "<style scoped>\n",
       "    .dataframe tbody tr th:only-of-type {\n",
       "        vertical-align: middle;\n",
       "    }\n",
       "\n",
       "    .dataframe tbody tr th {\n",
       "        vertical-align: top;\n",
       "    }\n",
       "\n",
       "    .dataframe thead th {\n",
       "        text-align: right;\n",
       "    }\n",
       "</style>\n",
       "<table border=\"1\" class=\"dataframe\">\n",
       "  <thead>\n",
       "    <tr style=\"text-align: right;\">\n",
       "      <th></th>\n",
       "      <th>repo</th>\n",
       "      <th>language</th>\n",
       "      <th>readme_contents</th>\n",
       "      <th>stemmed</th>\n",
       "      <th>lemmatized</th>\n",
       "      <th>clean</th>\n",
       "      <th>stopwords_removed</th>\n",
       "      <th>doc_length</th>\n",
       "      <th>words</th>\n",
       "    </tr>\n",
       "  </thead>\n",
       "  <tbody>\n",
       "    <tr>\n",
       "      <th>1</th>\n",
       "      <td>gocodeup/movies-application</td>\n",
       "      <td>JavaScript</td>\n",
       "      <td># Movies Application\\n\\nFor this project, we w...</td>\n",
       "      <td>movi applic for thi project we will be build a...</td>\n",
       "      <td>movie application for this project we will be ...</td>\n",
       "      <td>movie application project building single page...</td>\n",
       "      <td>355</td>\n",
       "      <td>413</td>\n",
       "      <td>[movie, application, project, building, single...</td>\n",
       "    </tr>\n",
       "    <tr>\n",
       "      <th>2</th>\n",
       "      <td>torvalds/linux</td>\n",
       "      <td>C</td>\n",
       "      <td>Linux kernel\\n============\\n\\nThere are severa...</td>\n",
       "      <td>linux kernel there are sever guid for kernel d...</td>\n",
       "      <td>linux kernel there are several guide for kerne...</td>\n",
       "      <td>linux kernel several guide kernel developer us...</td>\n",
       "      <td>39</td>\n",
       "      <td>71</td>\n",
       "      <td>[linux, kernel, several, guide, kernel, develo...</td>\n",
       "    </tr>\n",
       "    <tr>\n",
       "      <th>3</th>\n",
       "      <td>beetbox/beets</td>\n",
       "      <td>Python</td>\n",
       "      <td>.. image:: https://img.shields.io/pypi/v/beets...</td>\n",
       "      <td>imag http img shield io pypi v beet svg target...</td>\n",
       "      <td>image http img shield io pypi v beet svg targe...</td>\n",
       "      <td>image http img shield io pypi v beet svg targe...</td>\n",
       "      <td>179</td>\n",
       "      <td>517</td>\n",
       "      <td>[image, http, img, shield, io, pypibeet, svg, ...</td>\n",
       "    </tr>\n",
       "    <tr>\n",
       "      <th>4</th>\n",
       "      <td>scottschiller/SoundManager2</td>\n",
       "      <td>JavaScript</td>\n",
       "      <td># SoundManager 2: JavaScript Sound for the Web...</td>\n",
       "      <td>soundmanag 2 javascript sound for the web by w...</td>\n",
       "      <td>soundmanager 2 javascript sound for the web by...</td>\n",
       "      <td>soundmanager 2 javascript sound web wrapping e...</td>\n",
       "      <td>295</td>\n",
       "      <td>587</td>\n",
       "      <td>[soundmanagerjavascript, sound, web, wrapping,...</td>\n",
       "    </tr>\n",
       "    <tr>\n",
       "      <th>5</th>\n",
       "      <td>CreateJS/SoundJS</td>\n",
       "      <td>JavaScript</td>\n",
       "      <td># SoundJS\\r\\n\\r\\nSoundJS is a library to make ...</td>\n",
       "      <td>soundj soundj is a librari to make work with a...</td>\n",
       "      <td>soundjs soundjs is a library to make working w...</td>\n",
       "      <td>soundjs soundjs library make working audio web...</td>\n",
       "      <td>153</td>\n",
       "      <td>355</td>\n",
       "      <td>[soundjs, soundjs, library, make, working, aud...</td>\n",
       "    </tr>\n",
       "    <tr>\n",
       "      <th>...</th>\n",
       "      <td>...</td>\n",
       "      <td>...</td>\n",
       "      <td>...</td>\n",
       "      <td>...</td>\n",
       "      <td>...</td>\n",
       "      <td>...</td>\n",
       "      <td>...</td>\n",
       "      <td>...</td>\n",
       "      <td>...</td>\n",
       "    </tr>\n",
       "    <tr>\n",
       "      <th>104</th>\n",
       "      <td>josephmisiti/awesome-machine-learning</td>\n",
       "      <td>Python</td>\n",
       "      <td># Awesome Machine Learning [![Awesome](https:/...</td>\n",
       "      <td>awesom machin learn awesom http cdn rawgit com...</td>\n",
       "      <td>awesome machine learning awesome http cdn rawg...</td>\n",
       "      <td>awesome machine learning awesome http cdn rawg...</td>\n",
       "      <td>3758</td>\n",
       "      <td>17987</td>\n",
       "      <td>[awesome, machine, learning, awesome, http, cd...</td>\n",
       "    </tr>\n",
       "    <tr>\n",
       "      <th>107</th>\n",
       "      <td>fastai/courses</td>\n",
       "      <td>Jupyter Notebook</td>\n",
       "      <td># Practical Deep Learning for Coders (fast.ai ...</td>\n",
       "      <td>practic deep learn for coder fast ai cours the...</td>\n",
       "      <td>practical deep learning for coder fast ai cour...</td>\n",
       "      <td>practical deep learning coder fast ai course l...</td>\n",
       "      <td>57</td>\n",
       "      <td>80</td>\n",
       "      <td>[practical, deep, learning, coder, fast, ai, c...</td>\n",
       "    </tr>\n",
       "    <tr>\n",
       "      <th>108</th>\n",
       "      <td>Yorko/mlcourse.ai</td>\n",
       "      <td>Python</td>\n",
       "      <td>&lt;div align=\"center\"&gt;\\n\\n![ODS stickers](https:...</td>\n",
       "      <td>div align center od sticker http github com yo...</td>\n",
       "      <td>div align center od sticker http github com yo...</td>\n",
       "      <td>div align center od sticker http github com yo...</td>\n",
       "      <td>191</td>\n",
       "      <td>1972</td>\n",
       "      <td>[div, align, center, od, sticker, http, github...</td>\n",
       "    </tr>\n",
       "    <tr>\n",
       "      <th>110</th>\n",
       "      <td>nlintz/TensorFlow-Tutorials</td>\n",
       "      <td>Jupyter Notebook</td>\n",
       "      <td># TensorFlow-Tutorials\\n[![Build Status](https...</td>\n",
       "      <td>tensorflow tutori build statu http travi ci or...</td>\n",
       "      <td>tensorflow tutorial build status http travis c...</td>\n",
       "      <td>tensorflow tutorial build status http travis c...</td>\n",
       "      <td>7</td>\n",
       "      <td>139</td>\n",
       "      <td>[tensorflow, tutorial, build, status, http, tr...</td>\n",
       "    </tr>\n",
       "    <tr>\n",
       "      <th>111</th>\n",
       "      <td>pkmital/tensorflow_tutorials</td>\n",
       "      <td>Jupyter Notebook</td>\n",
       "      <td># UPDATE (July 12, 2016)\\n\\nNew **free MOOC co...</td>\n",
       "      <td>updat juli 12 2016 new free mooc cours cover a...</td>\n",
       "      <td>update july 12 2016 new free mooc course cover...</td>\n",
       "      <td>update july 12 2016 new free mooc course cover...</td>\n",
       "      <td>61</td>\n",
       "      <td>322</td>\n",
       "      <td>[update, july, 12, 2016, new, free, mooc, cour...</td>\n",
       "    </tr>\n",
       "  </tbody>\n",
       "</table>\n",
       "<p>96 rows × 9 columns</p>\n",
       "</div>"
      ],
      "text/plain": [
       "                                      repo          language  \\\n",
       "1              gocodeup/movies-application        JavaScript   \n",
       "2                           torvalds/linux                 C   \n",
       "3                            beetbox/beets            Python   \n",
       "4              scottschiller/SoundManager2        JavaScript   \n",
       "5                         CreateJS/SoundJS        JavaScript   \n",
       "..                                     ...               ...   \n",
       "104  josephmisiti/awesome-machine-learning            Python   \n",
       "107                         fastai/courses  Jupyter Notebook   \n",
       "108                      Yorko/mlcourse.ai            Python   \n",
       "110            nlintz/TensorFlow-Tutorials  Jupyter Notebook   \n",
       "111           pkmital/tensorflow_tutorials  Jupyter Notebook   \n",
       "\n",
       "                                       readme_contents  \\\n",
       "1    # Movies Application\\n\\nFor this project, we w...   \n",
       "2    Linux kernel\\n============\\n\\nThere are severa...   \n",
       "3    .. image:: https://img.shields.io/pypi/v/beets...   \n",
       "4    # SoundManager 2: JavaScript Sound for the Web...   \n",
       "5    # SoundJS\\r\\n\\r\\nSoundJS is a library to make ...   \n",
       "..                                                 ...   \n",
       "104  # Awesome Machine Learning [![Awesome](https:/...   \n",
       "107  # Practical Deep Learning for Coders (fast.ai ...   \n",
       "108  <div align=\"center\">\\n\\n![ODS stickers](https:...   \n",
       "110  # TensorFlow-Tutorials\\n[![Build Status](https...   \n",
       "111  # UPDATE (July 12, 2016)\\n\\nNew **free MOOC co...   \n",
       "\n",
       "                                               stemmed  \\\n",
       "1    movi applic for thi project we will be build a...   \n",
       "2    linux kernel there are sever guid for kernel d...   \n",
       "3    imag http img shield io pypi v beet svg target...   \n",
       "4    soundmanag 2 javascript sound for the web by w...   \n",
       "5    soundj soundj is a librari to make work with a...   \n",
       "..                                                 ...   \n",
       "104  awesom machin learn awesom http cdn rawgit com...   \n",
       "107  practic deep learn for coder fast ai cours the...   \n",
       "108  div align center od sticker http github com yo...   \n",
       "110  tensorflow tutori build statu http travi ci or...   \n",
       "111  updat juli 12 2016 new free mooc cours cover a...   \n",
       "\n",
       "                                            lemmatized  \\\n",
       "1    movie application for this project we will be ...   \n",
       "2    linux kernel there are several guide for kerne...   \n",
       "3    image http img shield io pypi v beet svg targe...   \n",
       "4    soundmanager 2 javascript sound for the web by...   \n",
       "5    soundjs soundjs is a library to make working w...   \n",
       "..                                                 ...   \n",
       "104  awesome machine learning awesome http cdn rawg...   \n",
       "107  practical deep learning for coder fast ai cour...   \n",
       "108  div align center od sticker http github com yo...   \n",
       "110  tensorflow tutorial build status http travis c...   \n",
       "111  update july 12 2016 new free mooc course cover...   \n",
       "\n",
       "                                                 clean  stopwords_removed  \\\n",
       "1    movie application project building single page...                355   \n",
       "2    linux kernel several guide kernel developer us...                 39   \n",
       "3    image http img shield io pypi v beet svg targe...                179   \n",
       "4    soundmanager 2 javascript sound web wrapping e...                295   \n",
       "5    soundjs soundjs library make working audio web...                153   \n",
       "..                                                 ...                ...   \n",
       "104  awesome machine learning awesome http cdn rawg...               3758   \n",
       "107  practical deep learning coder fast ai course l...                 57   \n",
       "108  div align center od sticker http github com yo...                191   \n",
       "110  tensorflow tutorial build status http travis c...                  7   \n",
       "111  update july 12 2016 new free mooc course cover...                 61   \n",
       "\n",
       "     doc_length                                              words  \n",
       "1           413  [movie, application, project, building, single...  \n",
       "2            71  [linux, kernel, several, guide, kernel, develo...  \n",
       "3           517  [image, http, img, shield, io, pypibeet, svg, ...  \n",
       "4           587  [soundmanagerjavascript, sound, web, wrapping,...  \n",
       "5           355  [soundjs, soundjs, library, make, working, aud...  \n",
       "..          ...                                                ...  \n",
       "104       17987  [awesome, machine, learning, awesome, http, cd...  \n",
       "107          80  [practical, deep, learning, coder, fast, ai, c...  \n",
       "108        1972  [div, align, center, od, sticker, http, github...  \n",
       "110         139  [tensorflow, tutorial, build, status, http, tr...  \n",
       "111         322  [update, july, 12, 2016, new, free, mooc, cour...  \n",
       "\n",
       "[96 rows x 9 columns]"
      ]
     },
     "execution_count": 4,
     "metadata": {},
     "output_type": "execute_result"
    }
   ],
   "source": [
    "df"
   ]
  },
  {
   "cell_type": "code",
   "execution_count": 5,
   "metadata": {},
   "outputs": [
    {
     "data": {
      "text/plain": [
       "JavaScript          28\n",
       "Python              17\n",
       "Ruby                12\n",
       "HTML                10\n",
       "C++                  8\n",
       "Jupyter Notebook     6\n",
       "CSS                  4\n",
       "TypeScript           3\n",
       "Scala                2\n",
       "C#                   2\n",
       "Java                 2\n",
       "C                    2\n",
       "Name: language, dtype: int64"
      ]
     },
     "execution_count": 5,
     "metadata": {},
     "output_type": "execute_result"
    }
   ],
   "source": [
    "df.language.value_counts()"
   ]
  },
  {
   "cell_type": "code",
   "execution_count": 6,
   "metadata": {},
   "outputs": [
    {
     "name": "stdout",
     "output_type": "stream",
     "text": [
      "<class 'pandas.core.frame.DataFrame'>\n",
      "Int64Index: 96 entries, 1 to 111\n",
      "Data columns (total 9 columns):\n",
      " #   Column             Non-Null Count  Dtype \n",
      "---  ------             --------------  ----- \n",
      " 0   repo               96 non-null     object\n",
      " 1   language           96 non-null     object\n",
      " 2   readme_contents    96 non-null     object\n",
      " 3   stemmed            96 non-null     object\n",
      " 4   lemmatized         96 non-null     object\n",
      " 5   clean              96 non-null     object\n",
      " 6   stopwords_removed  96 non-null     int64 \n",
      " 7   doc_length         96 non-null     int64 \n",
      " 8   words              96 non-null     object\n",
      "dtypes: int64(2), object(7)\n",
      "memory usage: 7.5+ KB\n"
     ]
    }
   ],
   "source": [
    "df.info()"
   ]
  },
  {
   "cell_type": "code",
   "execution_count": 7,
   "metadata": {},
   "outputs": [],
   "source": [
    "from sklearn.model_selection import train_test_split\n",
    "\n",
    "train, validate = train_test_split(df, stratify=df.language, test_size=.2)"
   ]
  },
  {
   "cell_type": "code",
   "execution_count": 8,
   "metadata": {},
   "outputs": [
    {
     "data": {
      "text/plain": [
       "(76, 9)"
      ]
     },
     "execution_count": 8,
     "metadata": {},
     "output_type": "execute_result"
    }
   ],
   "source": [
    "train.shape"
   ]
  },
  {
   "cell_type": "code",
   "execution_count": 9,
   "metadata": {},
   "outputs": [
    {
     "data": {
      "text/plain": [
       "JavaScript          22\n",
       "Python              13\n",
       "Ruby                 9\n",
       "HTML                 8\n",
       "C++                  6\n",
       "Jupyter Notebook     5\n",
       "CSS                  3\n",
       "Scala                2\n",
       "C#                   2\n",
       "Java                 2\n",
       "C                    2\n",
       "TypeScript           2\n",
       "Name: language, dtype: int64"
      ]
     },
     "execution_count": 9,
     "metadata": {},
     "output_type": "execute_result"
    }
   ],
   "source": [
    "train.language.value_counts()"
   ]
  },
  {
   "cell_type": "code",
   "execution_count": 10,
   "metadata": {},
   "outputs": [
    {
     "data": {
      "text/plain": [
       "(20, 9)"
      ]
     },
     "execution_count": 10,
     "metadata": {},
     "output_type": "execute_result"
    }
   ],
   "source": [
    "validate.shape"
   ]
  },
  {
   "cell_type": "code",
   "execution_count": 11,
   "metadata": {},
   "outputs": [
    {
     "data": {
      "text/plain": [
       "JavaScript          6\n",
       "Python              4\n",
       "Ruby                3\n",
       "HTML                2\n",
       "C++                 2\n",
       "Jupyter Notebook    1\n",
       "CSS                 1\n",
       "TypeScript          1\n",
       "Name: language, dtype: int64"
      ]
     },
     "execution_count": 11,
     "metadata": {},
     "output_type": "execute_result"
    }
   ],
   "source": [
    "validate.language.value_counts()"
   ]
  },
  {
   "cell_type": "code",
   "execution_count": 12,
   "metadata": {},
   "outputs": [
    {
     "ename": "NameError",
     "evalue": "name 'gitMDs' is not defined",
     "output_type": "error",
     "traceback": [
      "\u001b[0;31m---------------------------------------------------------------------------\u001b[0m",
      "\u001b[0;31mNameError\u001b[0m                                 Traceback (most recent call last)",
      "\u001b[0;32m<ipython-input-12-20961b7de02d>\u001b[0m in \u001b[0;36m<module>\u001b[0;34m\u001b[0m\n\u001b[1;32m      1\u001b[0m \u001b[0;31m# create series objects for each top_code_clean that is a string of words joined on spaces to make it 1 continious string\u001b[0m\u001b[0;34m\u001b[0m\u001b[0;34m\u001b[0m\u001b[0;34m\u001b[0m\u001b[0m\n\u001b[0;32m----> 2\u001b[0;31m \u001b[0mjavascript_words\u001b[0m \u001b[0;34m=\u001b[0m \u001b[0;34m' '\u001b[0m\u001b[0;34m.\u001b[0m\u001b[0mjoin\u001b[0m\u001b[0;34m(\u001b[0m\u001b[0mgitMDs\u001b[0m\u001b[0;34m[\u001b[0m\u001b[0mgitMDs\u001b[0m\u001b[0;34m.\u001b[0m\u001b[0mtop_code_clean\u001b[0m\u001b[0;34m==\u001b[0m\u001b[0;34m'javascript'\u001b[0m\u001b[0;34m]\u001b[0m\u001b[0;34m.\u001b[0m\u001b[0mclean\u001b[0m\u001b[0;34m)\u001b[0m\u001b[0;34m\u001b[0m\u001b[0;34m\u001b[0m\u001b[0m\n\u001b[0m\u001b[1;32m      3\u001b[0m \u001b[0mpython_words\u001b[0m \u001b[0;34m=\u001b[0m \u001b[0;34m' '\u001b[0m\u001b[0;34m.\u001b[0m\u001b[0mjoin\u001b[0m\u001b[0;34m(\u001b[0m\u001b[0mdf\u001b[0m\u001b[0;34m[\u001b[0m\u001b[0mdf\u001b[0m\u001b[0;34m.\u001b[0m\u001b[0mlanguage\u001b[0m\u001b[0;34m==\u001b[0m\u001b[0;34m'Python'\u001b[0m\u001b[0;34m]\u001b[0m\u001b[0;34m.\u001b[0m\u001b[0mclean\u001b[0m\u001b[0;34m)\u001b[0m\u001b[0;34m\u001b[0m\u001b[0;34m\u001b[0m\u001b[0m\n\u001b[1;32m      4\u001b[0m \u001b[0mruby_words\u001b[0m \u001b[0;34m=\u001b[0m \u001b[0;34m' '\u001b[0m\u001b[0;34m.\u001b[0m\u001b[0mjoin\u001b[0m\u001b[0;34m(\u001b[0m\u001b[0mgitMDs\u001b[0m\u001b[0;34m[\u001b[0m\u001b[0mgitMDs\u001b[0m\u001b[0;34m.\u001b[0m\u001b[0mtop_code_clean\u001b[0m\u001b[0;34m==\u001b[0m\u001b[0;34m'ruby'\u001b[0m\u001b[0;34m]\u001b[0m\u001b[0;34m.\u001b[0m\u001b[0mclean\u001b[0m\u001b[0;34m)\u001b[0m\u001b[0;34m\u001b[0m\u001b[0;34m\u001b[0m\u001b[0m\n\u001b[1;32m      5\u001b[0m \u001b[0mhtml_words\u001b[0m \u001b[0;34m=\u001b[0m \u001b[0;34m' '\u001b[0m\u001b[0;34m.\u001b[0m\u001b[0mjoin\u001b[0m\u001b[0;34m(\u001b[0m\u001b[0mgitMDs\u001b[0m\u001b[0;34m[\u001b[0m\u001b[0mgitMDs\u001b[0m\u001b[0;34m.\u001b[0m\u001b[0mtop_code_clean\u001b[0m\u001b[0;34m==\u001b[0m\u001b[0;34m'html'\u001b[0m\u001b[0;34m]\u001b[0m\u001b[0;34m.\u001b[0m\u001b[0mclean\u001b[0m\u001b[0;34m)\u001b[0m\u001b[0;34m\u001b[0m\u001b[0;34m\u001b[0m\u001b[0m\n",
      "\u001b[0;31mNameError\u001b[0m: name 'gitMDs' is not defined"
     ]
    }
   ],
   "source": [
    "# create series objects for each top_code_clean that is a string of words joined on spaces to make it 1 continious string  \n",
    "javascript_words = ' '.join(df[df.language=='Javascript'].clean)\n",
    "python_words = ' '.join(df[df.language=='Python'].clean)\n",
    "all_words = ' '.join(df.clean)"
   ]
  },
  {
   "cell_type": "code",
   "execution_count": 13,
   "metadata": {},
   "outputs": [
    {
     "data": {
      "text/plain": [
       "'1.1.3'"
      ]
     },
     "execution_count": 13,
     "metadata": {},
     "output_type": "execute_result"
    }
   ],
   "source": [
    "pd.__version__"
   ]
  },
  {
   "cell_type": "code",
   "execution_count": null,
   "metadata": {},
   "outputs": [],
   "source": []
  }
 ],
 "metadata": {
  "kernelspec": {
   "display_name": "Python 3",
   "language": "python",
   "name": "python3"
  },
  "language_info": {
   "codemirror_mode": {
    "name": "ipython",
    "version": 3
   },
   "file_extension": ".py",
   "mimetype": "text/x-python",
   "name": "python",
   "nbconvert_exporter": "python",
   "pygments_lexer": "ipython3",
   "version": "3.7.9"
  }
 },
 "nbformat": 4,
 "nbformat_minor": 4
}
