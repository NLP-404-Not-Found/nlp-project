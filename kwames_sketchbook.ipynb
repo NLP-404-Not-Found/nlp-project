{
 "cells": [
  {
   "cell_type": "markdown",
   "metadata": {},
   "source": [
    "# Sketchbook for NLP Project"
   ]
  },
  {
   "cell_type": "markdown",
   "metadata": {},
   "source": [
    "## Imports"
   ]
  },
  {
   "cell_type": "code",
   "execution_count": 11,
   "metadata": {},
   "outputs": [],
   "source": [
    "import numpy as np\n",
    "import pandas as pd\n",
    "import nltk\n",
    "import re"
   ]
  },
  {
   "cell_type": "markdown",
   "metadata": {},
   "source": [
    "## Acquire"
   ]
  },
  {
   "cell_type": "code",
   "execution_count": 2,
   "metadata": {},
   "outputs": [
    {
     "data": {
      "text/html": [
       "<div>\n",
       "<style scoped>\n",
       "    .dataframe tbody tr th:only-of-type {\n",
       "        vertical-align: middle;\n",
       "    }\n",
       "\n",
       "    .dataframe tbody tr th {\n",
       "        vertical-align: top;\n",
       "    }\n",
       "\n",
       "    .dataframe thead th {\n",
       "        text-align: right;\n",
       "    }\n",
       "</style>\n",
       "<table border=\"1\" class=\"dataframe\">\n",
       "  <thead>\n",
       "    <tr style=\"text-align: right;\">\n",
       "      <th></th>\n",
       "      <th>repo</th>\n",
       "      <th>language</th>\n",
       "      <th>readme_contents</th>\n",
       "    </tr>\n",
       "  </thead>\n",
       "  <tbody>\n",
       "    <tr>\n",
       "      <th>0</th>\n",
       "      <td>gocodeup/codeup-setup-script</td>\n",
       "      <td>Shell</td>\n",
       "      <td># Codeup Setup Script\\n\\nSetup script for Code...</td>\n",
       "    </tr>\n",
       "    <tr>\n",
       "      <th>1</th>\n",
       "      <td>gocodeup/movies-application</td>\n",
       "      <td>JavaScript</td>\n",
       "      <td># Movies Application\\n\\nFor this project, we w...</td>\n",
       "    </tr>\n",
       "    <tr>\n",
       "      <th>2</th>\n",
       "      <td>torvalds/linux</td>\n",
       "      <td>C</td>\n",
       "      <td>Linux kernel\\n============\\n\\nThere are severa...</td>\n",
       "    </tr>\n",
       "    <tr>\n",
       "      <th>3</th>\n",
       "      <td>beetbox/beets</td>\n",
       "      <td>Python</td>\n",
       "      <td>.. image:: https://img.shields.io/pypi/v/beets...</td>\n",
       "    </tr>\n",
       "    <tr>\n",
       "      <th>4</th>\n",
       "      <td>scottschiller/SoundManager2</td>\n",
       "      <td>JavaScript</td>\n",
       "      <td># SoundManager 2: JavaScript Sound for the Web...</td>\n",
       "    </tr>\n",
       "    <tr>\n",
       "      <th>...</th>\n",
       "      <td>...</td>\n",
       "      <td>...</td>\n",
       "      <td>...</td>\n",
       "    </tr>\n",
       "    <tr>\n",
       "      <th>107</th>\n",
       "      <td>fastai/courses</td>\n",
       "      <td>Jupyter Notebook</td>\n",
       "      <td># Practical Deep Learning for Coders (fast.ai ...</td>\n",
       "    </tr>\n",
       "    <tr>\n",
       "      <th>108</th>\n",
       "      <td>Yorko/mlcourse.ai</td>\n",
       "      <td>Python</td>\n",
       "      <td>&lt;div align=\"center\"&gt;\\n\\n![ODS stickers](https:...</td>\n",
       "    </tr>\n",
       "    <tr>\n",
       "      <th>109</th>\n",
       "      <td>jtoy/awesome-tensorflow</td>\n",
       "      <td>None</td>\n",
       "      <td># Awesome TensorFlow  [![Awesome](https://cdn....</td>\n",
       "    </tr>\n",
       "    <tr>\n",
       "      <th>110</th>\n",
       "      <td>nlintz/TensorFlow-Tutorials</td>\n",
       "      <td>Jupyter Notebook</td>\n",
       "      <td># TensorFlow-Tutorials\\n[![Build Status](https...</td>\n",
       "    </tr>\n",
       "    <tr>\n",
       "      <th>111</th>\n",
       "      <td>pkmital/tensorflow_tutorials</td>\n",
       "      <td>Jupyter Notebook</td>\n",
       "      <td># UPDATE (July 12, 2016)\\n\\nNew **free MOOC co...</td>\n",
       "    </tr>\n",
       "  </tbody>\n",
       "</table>\n",
       "<p>112 rows × 3 columns</p>\n",
       "</div>"
      ],
      "text/plain": [
       "                             repo          language  \\\n",
       "0    gocodeup/codeup-setup-script             Shell   \n",
       "1     gocodeup/movies-application        JavaScript   \n",
       "2                  torvalds/linux                 C   \n",
       "3                   beetbox/beets            Python   \n",
       "4     scottschiller/SoundManager2        JavaScript   \n",
       "..                            ...               ...   \n",
       "107                fastai/courses  Jupyter Notebook   \n",
       "108             Yorko/mlcourse.ai            Python   \n",
       "109       jtoy/awesome-tensorflow              None   \n",
       "110   nlintz/TensorFlow-Tutorials  Jupyter Notebook   \n",
       "111  pkmital/tensorflow_tutorials  Jupyter Notebook   \n",
       "\n",
       "                                       readme_contents  \n",
       "0    # Codeup Setup Script\\n\\nSetup script for Code...  \n",
       "1    # Movies Application\\n\\nFor this project, we w...  \n",
       "2    Linux kernel\\n============\\n\\nThere are severa...  \n",
       "3    .. image:: https://img.shields.io/pypi/v/beets...  \n",
       "4    # SoundManager 2: JavaScript Sound for the Web...  \n",
       "..                                                 ...  \n",
       "107  # Practical Deep Learning for Coders (fast.ai ...  \n",
       "108  <div align=\"center\">\\n\\n![ODS stickers](https:...  \n",
       "109  # Awesome TensorFlow  [![Awesome](https://cdn....  \n",
       "110  # TensorFlow-Tutorials\\n[![Build Status](https...  \n",
       "111  # UPDATE (July 12, 2016)\\n\\nNew **free MOOC co...  \n",
       "\n",
       "[112 rows x 3 columns]"
      ]
     },
     "execution_count": 2,
     "metadata": {},
     "output_type": "execute_result"
    }
   ],
   "source": [
    "df = pd.read_json('data.json')\n",
    "df"
   ]
  },
  {
   "cell_type": "code",
   "execution_count": 5,
   "metadata": {},
   "outputs": [
    {
     "name": "stdout",
     "output_type": "stream",
     "text": [
      "<class 'pandas.core.frame.DataFrame'>\n",
      "RangeIndex: 112 entries, 0 to 111\n",
      "Data columns (total 3 columns):\n",
      " #   Column           Non-Null Count  Dtype \n",
      "---  ------           --------------  ----- \n",
      " 0   repo             112 non-null    object\n",
      " 1   language         101 non-null    object\n",
      " 2   readme_contents  112 non-null    object\n",
      "dtypes: object(3)\n",
      "memory usage: 2.8+ KB\n"
     ]
    }
   ],
   "source": [
    "df.info()"
   ]
  },
  {
   "cell_type": "code",
   "execution_count": 9,
   "metadata": {},
   "outputs": [
    {
     "data": {
      "text/html": [
       "<div>\n",
       "<style scoped>\n",
       "    .dataframe tbody tr th:only-of-type {\n",
       "        vertical-align: middle;\n",
       "    }\n",
       "\n",
       "    .dataframe tbody tr th {\n",
       "        vertical-align: top;\n",
       "    }\n",
       "\n",
       "    .dataframe thead th {\n",
       "        text-align: right;\n",
       "    }\n",
       "</style>\n",
       "<table border=\"1\" class=\"dataframe\">\n",
       "  <thead>\n",
       "    <tr style=\"text-align: right;\">\n",
       "      <th></th>\n",
       "      <th>repo</th>\n",
       "      <th>language</th>\n",
       "      <th>readme_contents</th>\n",
       "    </tr>\n",
       "  </thead>\n",
       "  <tbody>\n",
       "    <tr>\n",
       "      <th>54</th>\n",
       "      <td>Greenstand/Development-Overview</td>\n",
       "      <td>None</td>\n",
       "      <td># Welcome to Greenstand's Treetracker project\\...</td>\n",
       "    </tr>\n",
       "    <tr>\n",
       "      <th>68</th>\n",
       "      <td>Data4Democracy/ethics-resources</td>\n",
       "      <td>None</td>\n",
       "      <td># Global Data Ethics Pledge (GDEP)\\n---\\n\\n## ...</td>\n",
       "    </tr>\n",
       "    <tr>\n",
       "      <th>81</th>\n",
       "      <td>jbhuang0604/awesome-computer-vision</td>\n",
       "      <td>None</td>\n",
       "      <td>\\n# Awesome Computer Vision: [![Awesome](https...</td>\n",
       "    </tr>\n",
       "    <tr>\n",
       "      <th>85</th>\n",
       "      <td>beamandrew/medical-data</td>\n",
       "      <td>None</td>\n",
       "      <td># Medical Data for Machine Learning\\nThis is a...</td>\n",
       "    </tr>\n",
       "    <tr>\n",
       "      <th>86</th>\n",
       "      <td>src-d/awesome-machine-learning-on-source-code</td>\n",
       "      <td>None</td>\n",
       "      <td># Awesome Machine Learning On Source Code [![A...</td>\n",
       "    </tr>\n",
       "    <tr>\n",
       "      <th>88</th>\n",
       "      <td>keon/awesome-nlp</td>\n",
       "      <td>None</td>\n",
       "      <td># 令人讚嘆的自然語言處理 [![Awesome](https://cdn.rawgit.c...</td>\n",
       "    </tr>\n",
       "    <tr>\n",
       "      <th>90</th>\n",
       "      <td>aikorea/awesome-rl</td>\n",
       "      <td>None</td>\n",
       "      <td># Awesome Reinforcement Learning  [![Awesome](...</td>\n",
       "    </tr>\n",
       "    <tr>\n",
       "      <th>102</th>\n",
       "      <td>gokceneraslan/awesome-deepbio</td>\n",
       "      <td>None</td>\n",
       "      <td># Awesome DeepBio [![Awesome](https://cdn.rawg...</td>\n",
       "    </tr>\n",
       "    <tr>\n",
       "      <th>105</th>\n",
       "      <td>ujjwalkarn/Machine-Learning-Tutorials</td>\n",
       "      <td>None</td>\n",
       "      <td>\\n# Machine Learning &amp; Deep Learning Tutorials...</td>\n",
       "    </tr>\n",
       "    <tr>\n",
       "      <th>106</th>\n",
       "      <td>ChristosChristofidis/awesome-deep-learning</td>\n",
       "      <td>None</td>\n",
       "      <td>﻿# Awesome Deep Learning [![Awesome](https://c...</td>\n",
       "    </tr>\n",
       "    <tr>\n",
       "      <th>109</th>\n",
       "      <td>jtoy/awesome-tensorflow</td>\n",
       "      <td>None</td>\n",
       "      <td># Awesome TensorFlow  [![Awesome](https://cdn....</td>\n",
       "    </tr>\n",
       "  </tbody>\n",
       "</table>\n",
       "</div>"
      ],
      "text/plain": [
       "                                              repo language  \\\n",
       "54                 Greenstand/Development-Overview     None   \n",
       "68                 Data4Democracy/ethics-resources     None   \n",
       "81             jbhuang0604/awesome-computer-vision     None   \n",
       "85                         beamandrew/medical-data     None   \n",
       "86   src-d/awesome-machine-learning-on-source-code     None   \n",
       "88                                keon/awesome-nlp     None   \n",
       "90                              aikorea/awesome-rl     None   \n",
       "102                  gokceneraslan/awesome-deepbio     None   \n",
       "105          ujjwalkarn/Machine-Learning-Tutorials     None   \n",
       "106     ChristosChristofidis/awesome-deep-learning     None   \n",
       "109                        jtoy/awesome-tensorflow     None   \n",
       "\n",
       "                                       readme_contents  \n",
       "54   # Welcome to Greenstand's Treetracker project\\...  \n",
       "68   # Global Data Ethics Pledge (GDEP)\\n---\\n\\n## ...  \n",
       "81   \\n# Awesome Computer Vision: [![Awesome](https...  \n",
       "85   # Medical Data for Machine Learning\\nThis is a...  \n",
       "86   # Awesome Machine Learning On Source Code [![A...  \n",
       "88   # 令人讚嘆的自然語言處理 [![Awesome](https://cdn.rawgit.c...  \n",
       "90   # Awesome Reinforcement Learning  [![Awesome](...  \n",
       "102  # Awesome DeepBio [![Awesome](https://cdn.rawg...  \n",
       "105  \\n# Machine Learning & Deep Learning Tutorials...  \n",
       "106  ﻿# Awesome Deep Learning [![Awesome](https://c...  \n",
       "109  # Awesome TensorFlow  [![Awesome](https://cdn....  "
      ]
     },
     "execution_count": 9,
     "metadata": {},
     "output_type": "execute_result"
    }
   ],
   "source": [
    "df[df.language.isna()]"
   ]
  },
  {
   "cell_type": "markdown",
   "metadata": {},
   "source": [
    "## Prepare"
   ]
  },
  {
   "cell_type": "markdown",
   "metadata": {},
   "source": [
    "Drop nulls."
   ]
  },
  {
   "cell_type": "code",
   "execution_count": 10,
   "metadata": {},
   "outputs": [
    {
     "data": {
      "text/html": [
       "<div>\n",
       "<style scoped>\n",
       "    .dataframe tbody tr th:only-of-type {\n",
       "        vertical-align: middle;\n",
       "    }\n",
       "\n",
       "    .dataframe tbody tr th {\n",
       "        vertical-align: top;\n",
       "    }\n",
       "\n",
       "    .dataframe thead th {\n",
       "        text-align: right;\n",
       "    }\n",
       "</style>\n",
       "<table border=\"1\" class=\"dataframe\">\n",
       "  <thead>\n",
       "    <tr style=\"text-align: right;\">\n",
       "      <th></th>\n",
       "      <th>repo</th>\n",
       "      <th>language</th>\n",
       "      <th>readme_contents</th>\n",
       "    </tr>\n",
       "  </thead>\n",
       "  <tbody>\n",
       "    <tr>\n",
       "      <th>0</th>\n",
       "      <td>gocodeup/codeup-setup-script</td>\n",
       "      <td>Shell</td>\n",
       "      <td># Codeup Setup Script\\n\\nSetup script for Code...</td>\n",
       "    </tr>\n",
       "    <tr>\n",
       "      <th>1</th>\n",
       "      <td>gocodeup/movies-application</td>\n",
       "      <td>JavaScript</td>\n",
       "      <td># Movies Application\\n\\nFor this project, we w...</td>\n",
       "    </tr>\n",
       "    <tr>\n",
       "      <th>2</th>\n",
       "      <td>torvalds/linux</td>\n",
       "      <td>C</td>\n",
       "      <td>Linux kernel\\n============\\n\\nThere are severa...</td>\n",
       "    </tr>\n",
       "    <tr>\n",
       "      <th>3</th>\n",
       "      <td>beetbox/beets</td>\n",
       "      <td>Python</td>\n",
       "      <td>.. image:: https://img.shields.io/pypi/v/beets...</td>\n",
       "    </tr>\n",
       "    <tr>\n",
       "      <th>4</th>\n",
       "      <td>scottschiller/SoundManager2</td>\n",
       "      <td>JavaScript</td>\n",
       "      <td># SoundManager 2: JavaScript Sound for the Web...</td>\n",
       "    </tr>\n",
       "    <tr>\n",
       "      <th>...</th>\n",
       "      <td>...</td>\n",
       "      <td>...</td>\n",
       "      <td>...</td>\n",
       "    </tr>\n",
       "    <tr>\n",
       "      <th>104</th>\n",
       "      <td>josephmisiti/awesome-machine-learning</td>\n",
       "      <td>Python</td>\n",
       "      <td># Awesome Machine Learning [![Awesome](https:/...</td>\n",
       "    </tr>\n",
       "    <tr>\n",
       "      <th>107</th>\n",
       "      <td>fastai/courses</td>\n",
       "      <td>Jupyter Notebook</td>\n",
       "      <td># Practical Deep Learning for Coders (fast.ai ...</td>\n",
       "    </tr>\n",
       "    <tr>\n",
       "      <th>108</th>\n",
       "      <td>Yorko/mlcourse.ai</td>\n",
       "      <td>Python</td>\n",
       "      <td>&lt;div align=\"center\"&gt;\\n\\n![ODS stickers](https:...</td>\n",
       "    </tr>\n",
       "    <tr>\n",
       "      <th>110</th>\n",
       "      <td>nlintz/TensorFlow-Tutorials</td>\n",
       "      <td>Jupyter Notebook</td>\n",
       "      <td># TensorFlow-Tutorials\\n[![Build Status](https...</td>\n",
       "    </tr>\n",
       "    <tr>\n",
       "      <th>111</th>\n",
       "      <td>pkmital/tensorflow_tutorials</td>\n",
       "      <td>Jupyter Notebook</td>\n",
       "      <td># UPDATE (July 12, 2016)\\n\\nNew **free MOOC co...</td>\n",
       "    </tr>\n",
       "  </tbody>\n",
       "</table>\n",
       "<p>101 rows × 3 columns</p>\n",
       "</div>"
      ],
      "text/plain": [
       "                                      repo          language  \\\n",
       "0             gocodeup/codeup-setup-script             Shell   \n",
       "1              gocodeup/movies-application        JavaScript   \n",
       "2                           torvalds/linux                 C   \n",
       "3                            beetbox/beets            Python   \n",
       "4              scottschiller/SoundManager2        JavaScript   \n",
       "..                                     ...               ...   \n",
       "104  josephmisiti/awesome-machine-learning            Python   \n",
       "107                         fastai/courses  Jupyter Notebook   \n",
       "108                      Yorko/mlcourse.ai            Python   \n",
       "110            nlintz/TensorFlow-Tutorials  Jupyter Notebook   \n",
       "111           pkmital/tensorflow_tutorials  Jupyter Notebook   \n",
       "\n",
       "                                       readme_contents  \n",
       "0    # Codeup Setup Script\\n\\nSetup script for Code...  \n",
       "1    # Movies Application\\n\\nFor this project, we w...  \n",
       "2    Linux kernel\\n============\\n\\nThere are severa...  \n",
       "3    .. image:: https://img.shields.io/pypi/v/beets...  \n",
       "4    # SoundManager 2: JavaScript Sound for the Web...  \n",
       "..                                                 ...  \n",
       "104  # Awesome Machine Learning [![Awesome](https:/...  \n",
       "107  # Practical Deep Learning for Coders (fast.ai ...  \n",
       "108  <div align=\"center\">\\n\\n![ODS stickers](https:...  \n",
       "110  # TensorFlow-Tutorials\\n[![Build Status](https...  \n",
       "111  # UPDATE (July 12, 2016)\\n\\nNew **free MOOC co...  \n",
       "\n",
       "[101 rows x 3 columns]"
      ]
     },
     "execution_count": 10,
     "metadata": {},
     "output_type": "execute_result"
    }
   ],
   "source": [
    "df = df.dropna()\n",
    "df"
   ]
  },
  {
   "cell_type": "markdown",
   "metadata": {},
   "source": [
    "Clean and lemmatize."
   ]
  },
  {
   "cell_type": "code",
   "execution_count": null,
   "metadata": {},
   "outputs": [],
   "source": []
  },
  {
   "cell_type": "markdown",
   "metadata": {},
   "source": [
    "Split into train, validate, and test."
   ]
  },
  {
   "cell_type": "code",
   "execution_count": null,
   "metadata": {},
   "outputs": [],
   "source": []
  },
  {
   "cell_type": "markdown",
   "metadata": {},
   "source": [
    "## Explore"
   ]
  },
  {
   "cell_type": "code",
   "execution_count": null,
   "metadata": {},
   "outputs": [],
   "source": []
  },
  {
   "cell_type": "markdown",
   "metadata": {},
   "source": [
    "## Model"
   ]
  },
  {
   "cell_type": "code",
   "execution_count": null,
   "metadata": {},
   "outputs": [],
   "source": []
  },
  {
   "cell_type": "markdown",
   "metadata": {},
   "source": [
    "## Conclusions and Takeaways"
   ]
  },
  {
   "cell_type": "code",
   "execution_count": null,
   "metadata": {},
   "outputs": [],
   "source": []
  }
 ],
 "metadata": {
  "kernelspec": {
   "display_name": "Python 3",
   "language": "python",
   "name": "python3"
  },
  "language_info": {
   "codemirror_mode": {
    "name": "ipython",
    "version": 3
   },
   "file_extension": ".py",
   "mimetype": "text/x-python",
   "name": "python",
   "nbconvert_exporter": "python",
   "pygments_lexer": "ipython3",
   "version": "3.8.3"
  }
 },
 "nbformat": 4,
 "nbformat_minor": 4
}
