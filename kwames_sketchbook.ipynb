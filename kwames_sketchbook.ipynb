{
 "cells": [
  {
   "cell_type": "markdown",
   "metadata": {},
   "source": [
    "# Sketchbook for NLP Project"
   ]
  },
  {
   "cell_type": "markdown",
   "metadata": {},
   "source": [
    "## Imports"
   ]
  },
  {
   "cell_type": "code",
   "execution_count": 1,
   "metadata": {},
   "outputs": [],
   "source": [
    "import numpy as np\n",
    "import pandas as pd\n",
    "import seaborn as sns\n",
    "import matplotlib as plt\n",
    "\n",
    "import unicodedata\n",
    "import re\n",
    "import json\n",
    "\n",
    "import nltk\n",
    "from nltk.tokenize.toktok import ToktokTokenizer\n",
    "from nltk.corpus import stopwords\n",
    "\n",
    "from sklearn.model_selection import train_test_split\n",
    "\n",
    "import prepare\n",
    "\n",
    "# ignore warnings\n",
    "import warnings\n",
    "warnings.filterwarnings(\"ignore\")"
   ]
  },
  {
   "cell_type": "code",
   "execution_count": 2,
   "metadata": {},
   "outputs": [
    {
     "name": "stderr",
     "output_type": "stream",
     "text": [
      "[nltk_data] Downloading package wordnet to /Users/a666/nltk_data...\n",
      "[nltk_data]   Package wordnet is already up-to-date!\n"
     ]
    },
    {
     "data": {
      "text/plain": [
       "True"
      ]
     },
     "execution_count": 2,
     "metadata": {},
     "output_type": "execute_result"
    }
   ],
   "source": [
    "nltk.download('wordnet')"
   ]
  },
  {
   "cell_type": "markdown",
   "metadata": {},
   "source": [
    "## Acquire"
   ]
  },
  {
   "cell_type": "code",
   "execution_count": 3,
   "metadata": {},
   "outputs": [
    {
     "data": {
      "text/html": [
       "<div>\n",
       "<style scoped>\n",
       "    .dataframe tbody tr th:only-of-type {\n",
       "        vertical-align: middle;\n",
       "    }\n",
       "\n",
       "    .dataframe tbody tr th {\n",
       "        vertical-align: top;\n",
       "    }\n",
       "\n",
       "    .dataframe thead th {\n",
       "        text-align: right;\n",
       "    }\n",
       "</style>\n",
       "<table border=\"1\" class=\"dataframe\">\n",
       "  <thead>\n",
       "    <tr style=\"text-align: right;\">\n",
       "      <th></th>\n",
       "      <th>repo</th>\n",
       "      <th>language</th>\n",
       "      <th>readme_contents</th>\n",
       "    </tr>\n",
       "  </thead>\n",
       "  <tbody>\n",
       "    <tr>\n",
       "      <th>0</th>\n",
       "      <td>gocodeup/codeup-setup-script</td>\n",
       "      <td>Shell</td>\n",
       "      <td># Codeup Setup Script\\n\\nSetup script for Code...</td>\n",
       "    </tr>\n",
       "    <tr>\n",
       "      <th>1</th>\n",
       "      <td>gocodeup/movies-application</td>\n",
       "      <td>JavaScript</td>\n",
       "      <td># Movies Application\\n\\nFor this project, we w...</td>\n",
       "    </tr>\n",
       "    <tr>\n",
       "      <th>2</th>\n",
       "      <td>torvalds/linux</td>\n",
       "      <td>C</td>\n",
       "      <td>Linux kernel\\n============\\n\\nThere are severa...</td>\n",
       "    </tr>\n",
       "    <tr>\n",
       "      <th>3</th>\n",
       "      <td>beetbox/beets</td>\n",
       "      <td>Python</td>\n",
       "      <td>.. image:: https://img.shields.io/pypi/v/beets...</td>\n",
       "    </tr>\n",
       "    <tr>\n",
       "      <th>4</th>\n",
       "      <td>scottschiller/SoundManager2</td>\n",
       "      <td>JavaScript</td>\n",
       "      <td># SoundManager 2: JavaScript Sound for the Web...</td>\n",
       "    </tr>\n",
       "    <tr>\n",
       "      <th>...</th>\n",
       "      <td>...</td>\n",
       "      <td>...</td>\n",
       "      <td>...</td>\n",
       "    </tr>\n",
       "    <tr>\n",
       "      <th>107</th>\n",
       "      <td>fastai/courses</td>\n",
       "      <td>Jupyter Notebook</td>\n",
       "      <td># Practical Deep Learning for Coders (fast.ai ...</td>\n",
       "    </tr>\n",
       "    <tr>\n",
       "      <th>108</th>\n",
       "      <td>Yorko/mlcourse.ai</td>\n",
       "      <td>Python</td>\n",
       "      <td>&lt;div align=\"center\"&gt;\\n\\n![ODS stickers](https:...</td>\n",
       "    </tr>\n",
       "    <tr>\n",
       "      <th>109</th>\n",
       "      <td>jtoy/awesome-tensorflow</td>\n",
       "      <td>None</td>\n",
       "      <td># Awesome TensorFlow  [![Awesome](https://cdn....</td>\n",
       "    </tr>\n",
       "    <tr>\n",
       "      <th>110</th>\n",
       "      <td>nlintz/TensorFlow-Tutorials</td>\n",
       "      <td>Jupyter Notebook</td>\n",
       "      <td># TensorFlow-Tutorials\\n[![Build Status](https...</td>\n",
       "    </tr>\n",
       "    <tr>\n",
       "      <th>111</th>\n",
       "      <td>pkmital/tensorflow_tutorials</td>\n",
       "      <td>Jupyter Notebook</td>\n",
       "      <td># UPDATE (July 12, 2016)\\n\\nNew **free MOOC co...</td>\n",
       "    </tr>\n",
       "  </tbody>\n",
       "</table>\n",
       "<p>112 rows × 3 columns</p>\n",
       "</div>"
      ],
      "text/plain": [
       "                             repo          language  \\\n",
       "0    gocodeup/codeup-setup-script             Shell   \n",
       "1     gocodeup/movies-application        JavaScript   \n",
       "2                  torvalds/linux                 C   \n",
       "3                   beetbox/beets            Python   \n",
       "4     scottschiller/SoundManager2        JavaScript   \n",
       "..                            ...               ...   \n",
       "107                fastai/courses  Jupyter Notebook   \n",
       "108             Yorko/mlcourse.ai            Python   \n",
       "109       jtoy/awesome-tensorflow              None   \n",
       "110   nlintz/TensorFlow-Tutorials  Jupyter Notebook   \n",
       "111  pkmital/tensorflow_tutorials  Jupyter Notebook   \n",
       "\n",
       "                                       readme_contents  \n",
       "0    # Codeup Setup Script\\n\\nSetup script for Code...  \n",
       "1    # Movies Application\\n\\nFor this project, we w...  \n",
       "2    Linux kernel\\n============\\n\\nThere are severa...  \n",
       "3    .. image:: https://img.shields.io/pypi/v/beets...  \n",
       "4    # SoundManager 2: JavaScript Sound for the Web...  \n",
       "..                                                 ...  \n",
       "107  # Practical Deep Learning for Coders (fast.ai ...  \n",
       "108  <div align=\"center\">\\n\\n![ODS stickers](https:...  \n",
       "109  # Awesome TensorFlow  [![Awesome](https://cdn....  \n",
       "110  # TensorFlow-Tutorials\\n[![Build Status](https...  \n",
       "111  # UPDATE (July 12, 2016)\\n\\nNew **free MOOC co...  \n",
       "\n",
       "[112 rows x 3 columns]"
      ]
     },
     "execution_count": 3,
     "metadata": {},
     "output_type": "execute_result"
    }
   ],
   "source": [
    "df = pd.read_json('data.json')\n",
    "df"
   ]
  },
  {
   "cell_type": "code",
   "execution_count": 4,
   "metadata": {},
   "outputs": [
    {
     "name": "stdout",
     "output_type": "stream",
     "text": [
      "<class 'pandas.core.frame.DataFrame'>\n",
      "RangeIndex: 112 entries, 0 to 111\n",
      "Data columns (total 3 columns):\n",
      " #   Column           Non-Null Count  Dtype \n",
      "---  ------           --------------  ----- \n",
      " 0   repo             112 non-null    object\n",
      " 1   language         101 non-null    object\n",
      " 2   readme_contents  112 non-null    object\n",
      "dtypes: object(3)\n",
      "memory usage: 2.8+ KB\n"
     ]
    }
   ],
   "source": [
    "df.info()"
   ]
  },
  {
   "cell_type": "code",
   "execution_count": 5,
   "metadata": {},
   "outputs": [
    {
     "data": {
      "text/html": [
       "<div>\n",
       "<style scoped>\n",
       "    .dataframe tbody tr th:only-of-type {\n",
       "        vertical-align: middle;\n",
       "    }\n",
       "\n",
       "    .dataframe tbody tr th {\n",
       "        vertical-align: top;\n",
       "    }\n",
       "\n",
       "    .dataframe thead th {\n",
       "        text-align: right;\n",
       "    }\n",
       "</style>\n",
       "<table border=\"1\" class=\"dataframe\">\n",
       "  <thead>\n",
       "    <tr style=\"text-align: right;\">\n",
       "      <th></th>\n",
       "      <th>repo</th>\n",
       "      <th>language</th>\n",
       "      <th>readme_contents</th>\n",
       "    </tr>\n",
       "  </thead>\n",
       "  <tbody>\n",
       "    <tr>\n",
       "      <th>54</th>\n",
       "      <td>Greenstand/Development-Overview</td>\n",
       "      <td>None</td>\n",
       "      <td># Welcome to Greenstand's Treetracker project\\...</td>\n",
       "    </tr>\n",
       "    <tr>\n",
       "      <th>68</th>\n",
       "      <td>Data4Democracy/ethics-resources</td>\n",
       "      <td>None</td>\n",
       "      <td># Global Data Ethics Pledge (GDEP)\\n---\\n\\n## ...</td>\n",
       "    </tr>\n",
       "    <tr>\n",
       "      <th>81</th>\n",
       "      <td>jbhuang0604/awesome-computer-vision</td>\n",
       "      <td>None</td>\n",
       "      <td>\\n# Awesome Computer Vision: [![Awesome](https...</td>\n",
       "    </tr>\n",
       "    <tr>\n",
       "      <th>85</th>\n",
       "      <td>beamandrew/medical-data</td>\n",
       "      <td>None</td>\n",
       "      <td># Medical Data for Machine Learning\\nThis is a...</td>\n",
       "    </tr>\n",
       "    <tr>\n",
       "      <th>86</th>\n",
       "      <td>src-d/awesome-machine-learning-on-source-code</td>\n",
       "      <td>None</td>\n",
       "      <td># Awesome Machine Learning On Source Code [![A...</td>\n",
       "    </tr>\n",
       "    <tr>\n",
       "      <th>88</th>\n",
       "      <td>keon/awesome-nlp</td>\n",
       "      <td>None</td>\n",
       "      <td># 令人讚嘆的自然語言處理 [![Awesome](https://cdn.rawgit.c...</td>\n",
       "    </tr>\n",
       "    <tr>\n",
       "      <th>90</th>\n",
       "      <td>aikorea/awesome-rl</td>\n",
       "      <td>None</td>\n",
       "      <td># Awesome Reinforcement Learning  [![Awesome](...</td>\n",
       "    </tr>\n",
       "    <tr>\n",
       "      <th>102</th>\n",
       "      <td>gokceneraslan/awesome-deepbio</td>\n",
       "      <td>None</td>\n",
       "      <td># Awesome DeepBio [![Awesome](https://cdn.rawg...</td>\n",
       "    </tr>\n",
       "    <tr>\n",
       "      <th>105</th>\n",
       "      <td>ujjwalkarn/Machine-Learning-Tutorials</td>\n",
       "      <td>None</td>\n",
       "      <td>\\n# Machine Learning &amp; Deep Learning Tutorials...</td>\n",
       "    </tr>\n",
       "    <tr>\n",
       "      <th>106</th>\n",
       "      <td>ChristosChristofidis/awesome-deep-learning</td>\n",
       "      <td>None</td>\n",
       "      <td>﻿# Awesome Deep Learning [![Awesome](https://c...</td>\n",
       "    </tr>\n",
       "    <tr>\n",
       "      <th>109</th>\n",
       "      <td>jtoy/awesome-tensorflow</td>\n",
       "      <td>None</td>\n",
       "      <td># Awesome TensorFlow  [![Awesome](https://cdn....</td>\n",
       "    </tr>\n",
       "  </tbody>\n",
       "</table>\n",
       "</div>"
      ],
      "text/plain": [
       "                                              repo language  \\\n",
       "54                 Greenstand/Development-Overview     None   \n",
       "68                 Data4Democracy/ethics-resources     None   \n",
       "81             jbhuang0604/awesome-computer-vision     None   \n",
       "85                         beamandrew/medical-data     None   \n",
       "86   src-d/awesome-machine-learning-on-source-code     None   \n",
       "88                                keon/awesome-nlp     None   \n",
       "90                              aikorea/awesome-rl     None   \n",
       "102                  gokceneraslan/awesome-deepbio     None   \n",
       "105          ujjwalkarn/Machine-Learning-Tutorials     None   \n",
       "106     ChristosChristofidis/awesome-deep-learning     None   \n",
       "109                        jtoy/awesome-tensorflow     None   \n",
       "\n",
       "                                       readme_contents  \n",
       "54   # Welcome to Greenstand's Treetracker project\\...  \n",
       "68   # Global Data Ethics Pledge (GDEP)\\n---\\n\\n## ...  \n",
       "81   \\n# Awesome Computer Vision: [![Awesome](https...  \n",
       "85   # Medical Data for Machine Learning\\nThis is a...  \n",
       "86   # Awesome Machine Learning On Source Code [![A...  \n",
       "88   # 令人讚嘆的自然語言處理 [![Awesome](https://cdn.rawgit.c...  \n",
       "90   # Awesome Reinforcement Learning  [![Awesome](...  \n",
       "102  # Awesome DeepBio [![Awesome](https://cdn.rawg...  \n",
       "105  \\n# Machine Learning & Deep Learning Tutorials...  \n",
       "106  ﻿# Awesome Deep Learning [![Awesome](https://c...  \n",
       "109  # Awesome TensorFlow  [![Awesome](https://cdn....  "
      ]
     },
     "execution_count": 5,
     "metadata": {},
     "output_type": "execute_result"
    }
   ],
   "source": [
    "df[df.language.isna()]"
   ]
  },
  {
   "cell_type": "markdown",
   "metadata": {},
   "source": [
    "## Prepare"
   ]
  },
  {
   "cell_type": "code",
   "execution_count": 6,
   "metadata": {},
   "outputs": [
    {
     "name": "stdout",
     "output_type": "stream",
     "text": [
      "<class 'pandas.core.frame.DataFrame'>\n",
      "RangeIndex: 112 entries, 0 to 111\n",
      "Data columns (total 3 columns):\n",
      " #   Column           Non-Null Count  Dtype \n",
      "---  ------           --------------  ----- \n",
      " 0   repo             112 non-null    object\n",
      " 1   language         101 non-null    object\n",
      " 2   readme_contents  112 non-null    object\n",
      "dtypes: object(3)\n",
      "memory usage: 2.8+ KB\n"
     ]
    }
   ],
   "source": [
    "df.info()"
   ]
  },
  {
   "cell_type": "markdown",
   "metadata": {},
   "source": [
    "Prepare the DataFrame with the text article title, original text, stemmed text, lemmatized text, cleaned, tokenized, & lemmatized text with stopwords removed. Also drops nulls."
   ]
  },
  {
   "cell_type": "code",
   "execution_count": 7,
   "metadata": {},
   "outputs": [
    {
     "data": {
      "text/html": [
       "<div>\n",
       "<style scoped>\n",
       "    .dataframe tbody tr th:only-of-type {\n",
       "        vertical-align: middle;\n",
       "    }\n",
       "\n",
       "    .dataframe tbody tr th {\n",
       "        vertical-align: top;\n",
       "    }\n",
       "\n",
       "    .dataframe thead th {\n",
       "        text-align: right;\n",
       "    }\n",
       "</style>\n",
       "<table border=\"1\" class=\"dataframe\">\n",
       "  <thead>\n",
       "    <tr style=\"text-align: right;\">\n",
       "      <th></th>\n",
       "      <th>repo</th>\n",
       "      <th>language</th>\n",
       "      <th>readme_contents</th>\n",
       "      <th>stemmed</th>\n",
       "      <th>lemmatized</th>\n",
       "      <th>clean</th>\n",
       "      <th>stopwords_removed</th>\n",
       "      <th>doc_length</th>\n",
       "      <th>words</th>\n",
       "    </tr>\n",
       "  </thead>\n",
       "  <tbody>\n",
       "    <tr>\n",
       "      <th>1</th>\n",
       "      <td>gocodeup/movies-application</td>\n",
       "      <td>JavaScript</td>\n",
       "      <td># Movies Application\\n\\nFor this project, we w...</td>\n",
       "      <td>movi applic for thi project we will be build a...</td>\n",
       "      <td>movie application for this project we will be ...</td>\n",
       "      <td>movie application project building single page...</td>\n",
       "      <td>361</td>\n",
       "      <td>423</td>\n",
       "      <td>[movie, application, project, building, single...</td>\n",
       "    </tr>\n",
       "    <tr>\n",
       "      <th>2</th>\n",
       "      <td>torvalds/linux</td>\n",
       "      <td>C</td>\n",
       "      <td>Linux kernel\\n============\\n\\nThere are severa...</td>\n",
       "      <td>linux kernel there are sever guid for kernel d...</td>\n",
       "      <td>linux kernel there are several guide for kerne...</td>\n",
       "      <td>linux kernel several guide kernel developer us...</td>\n",
       "      <td>39</td>\n",
       "      <td>71</td>\n",
       "      <td>[linux, kernel, several, guide, kernel, develo...</td>\n",
       "    </tr>\n",
       "    <tr>\n",
       "      <th>3</th>\n",
       "      <td>beetbox/beets</td>\n",
       "      <td>Python</td>\n",
       "      <td>.. image:: https://img.shields.io/pypi/v/beets...</td>\n",
       "      <td>imag http img shield io pypi v beet svg target...</td>\n",
       "      <td>image http img shield io pypi v beet svg targe...</td>\n",
       "      <td>image http img shield io pypi v beet svg targe...</td>\n",
       "      <td>191</td>\n",
       "      <td>532</td>\n",
       "      <td>[image, http, img, shield, io, pypibeet, svg, ...</td>\n",
       "    </tr>\n",
       "    <tr>\n",
       "      <th>4</th>\n",
       "      <td>scottschiller/SoundManager2</td>\n",
       "      <td>JavaScript</td>\n",
       "      <td># SoundManager 2: JavaScript Sound for the Web...</td>\n",
       "      <td>soundmanag javascript sound for the web by wra...</td>\n",
       "      <td>soundmanager javascript sound for the web by w...</td>\n",
       "      <td>soundmanager javascript sound web wrapping ext...</td>\n",
       "      <td>305</td>\n",
       "      <td>614</td>\n",
       "      <td>[soundmanager, javascript, sound, web, wrappin...</td>\n",
       "    </tr>\n",
       "    <tr>\n",
       "      <th>5</th>\n",
       "      <td>CreateJS/SoundJS</td>\n",
       "      <td>JavaScript</td>\n",
       "      <td># SoundJS\\r\\n\\r\\nSoundJS is a library to make ...</td>\n",
       "      <td>soundj soundj is a librari to make work with a...</td>\n",
       "      <td>soundjs soundjs is a library to make working w...</td>\n",
       "      <td>soundjs soundjs library make working audio web...</td>\n",
       "      <td>155</td>\n",
       "      <td>355</td>\n",
       "      <td>[soundjs, soundjs, library, make, working, aud...</td>\n",
       "    </tr>\n",
       "    <tr>\n",
       "      <th>...</th>\n",
       "      <td>...</td>\n",
       "      <td>...</td>\n",
       "      <td>...</td>\n",
       "      <td>...</td>\n",
       "      <td>...</td>\n",
       "      <td>...</td>\n",
       "      <td>...</td>\n",
       "      <td>...</td>\n",
       "      <td>...</td>\n",
       "    </tr>\n",
       "    <tr>\n",
       "      <th>104</th>\n",
       "      <td>josephmisiti/awesome-machine-learning</td>\n",
       "      <td>Python</td>\n",
       "      <td># Awesome Machine Learning [![Awesome](https:/...</td>\n",
       "      <td>awesom machin learn awesom http cdn rawgit com...</td>\n",
       "      <td>awesome machine learning awesome http cdn rawg...</td>\n",
       "      <td>awesome machine learning awesome http cdn rawg...</td>\n",
       "      <td>3809</td>\n",
       "      <td>18096</td>\n",
       "      <td>[awesome, machine, learning, awesome, http, cd...</td>\n",
       "    </tr>\n",
       "    <tr>\n",
       "      <th>107</th>\n",
       "      <td>fastai/courses</td>\n",
       "      <td>Jupyter Notebook</td>\n",
       "      <td># Practical Deep Learning for Coders (fast.ai ...</td>\n",
       "      <td>practic deep learn for coder fast ai cours the...</td>\n",
       "      <td>practical deep learning for coder fast ai cour...</td>\n",
       "      <td>practical deep learning coder fast ai course l...</td>\n",
       "      <td>59</td>\n",
       "      <td>82</td>\n",
       "      <td>[practical, deep, learning, coder, fast, ai, c...</td>\n",
       "    </tr>\n",
       "    <tr>\n",
       "      <th>108</th>\n",
       "      <td>Yorko/mlcourse.ai</td>\n",
       "      <td>Python</td>\n",
       "      <td>&lt;div align=\"center\"&gt;\\n\\n![ODS stickers](https:...</td>\n",
       "      <td>div align center od sticker http github com yo...</td>\n",
       "      <td>div align center od sticker http github com yo...</td>\n",
       "      <td>div align center od sticker http github com yo...</td>\n",
       "      <td>194</td>\n",
       "      <td>2061</td>\n",
       "      <td>[div, align, center, od, sticker, http, github...</td>\n",
       "    </tr>\n",
       "    <tr>\n",
       "      <th>110</th>\n",
       "      <td>nlintz/TensorFlow-Tutorials</td>\n",
       "      <td>Jupyter Notebook</td>\n",
       "      <td># TensorFlow-Tutorials\\n[![Build Status](https...</td>\n",
       "      <td>tensorflow tutori build statu http travi ci or...</td>\n",
       "      <td>tensorflow tutorial build status http travis c...</td>\n",
       "      <td>tensorflow tutorial build status http travis c...</td>\n",
       "      <td>10</td>\n",
       "      <td>142</td>\n",
       "      <td>[tensorflow, tutorial, build, status, http, tr...</td>\n",
       "    </tr>\n",
       "    <tr>\n",
       "      <th>111</th>\n",
       "      <td>pkmital/tensorflow_tutorials</td>\n",
       "      <td>Jupyter Notebook</td>\n",
       "      <td># UPDATE (July 12, 2016)\\n\\nNew **free MOOC co...</td>\n",
       "      <td>updat juli 12 2016 new free mooc cours cover a...</td>\n",
       "      <td>update july 12 2016 new free mooc course cover...</td>\n",
       "      <td>update july 12 2016 new free mooc course cover...</td>\n",
       "      <td>67</td>\n",
       "      <td>332</td>\n",
       "      <td>[update, july, 12, 2016, new, free, mooc, cour...</td>\n",
       "    </tr>\n",
       "  </tbody>\n",
       "</table>\n",
       "<p>96 rows × 9 columns</p>\n",
       "</div>"
      ],
      "text/plain": [
       "                                      repo          language  \\\n",
       "1              gocodeup/movies-application        JavaScript   \n",
       "2                           torvalds/linux                 C   \n",
       "3                            beetbox/beets            Python   \n",
       "4              scottschiller/SoundManager2        JavaScript   \n",
       "5                         CreateJS/SoundJS        JavaScript   \n",
       "..                                     ...               ...   \n",
       "104  josephmisiti/awesome-machine-learning            Python   \n",
       "107                         fastai/courses  Jupyter Notebook   \n",
       "108                      Yorko/mlcourse.ai            Python   \n",
       "110            nlintz/TensorFlow-Tutorials  Jupyter Notebook   \n",
       "111           pkmital/tensorflow_tutorials  Jupyter Notebook   \n",
       "\n",
       "                                       readme_contents  \\\n",
       "1    # Movies Application\\n\\nFor this project, we w...   \n",
       "2    Linux kernel\\n============\\n\\nThere are severa...   \n",
       "3    .. image:: https://img.shields.io/pypi/v/beets...   \n",
       "4    # SoundManager 2: JavaScript Sound for the Web...   \n",
       "5    # SoundJS\\r\\n\\r\\nSoundJS is a library to make ...   \n",
       "..                                                 ...   \n",
       "104  # Awesome Machine Learning [![Awesome](https:/...   \n",
       "107  # Practical Deep Learning for Coders (fast.ai ...   \n",
       "108  <div align=\"center\">\\n\\n![ODS stickers](https:...   \n",
       "110  # TensorFlow-Tutorials\\n[![Build Status](https...   \n",
       "111  # UPDATE (July 12, 2016)\\n\\nNew **free MOOC co...   \n",
       "\n",
       "                                               stemmed  \\\n",
       "1    movi applic for thi project we will be build a...   \n",
       "2    linux kernel there are sever guid for kernel d...   \n",
       "3    imag http img shield io pypi v beet svg target...   \n",
       "4    soundmanag javascript sound for the web by wra...   \n",
       "5    soundj soundj is a librari to make work with a...   \n",
       "..                                                 ...   \n",
       "104  awesom machin learn awesom http cdn rawgit com...   \n",
       "107  practic deep learn for coder fast ai cours the...   \n",
       "108  div align center od sticker http github com yo...   \n",
       "110  tensorflow tutori build statu http travi ci or...   \n",
       "111  updat juli 12 2016 new free mooc cours cover a...   \n",
       "\n",
       "                                            lemmatized  \\\n",
       "1    movie application for this project we will be ...   \n",
       "2    linux kernel there are several guide for kerne...   \n",
       "3    image http img shield io pypi v beet svg targe...   \n",
       "4    soundmanager javascript sound for the web by w...   \n",
       "5    soundjs soundjs is a library to make working w...   \n",
       "..                                                 ...   \n",
       "104  awesome machine learning awesome http cdn rawg...   \n",
       "107  practical deep learning for coder fast ai cour...   \n",
       "108  div align center od sticker http github com yo...   \n",
       "110  tensorflow tutorial build status http travis c...   \n",
       "111  update july 12 2016 new free mooc course cover...   \n",
       "\n",
       "                                                 clean  stopwords_removed  \\\n",
       "1    movie application project building single page...                361   \n",
       "2    linux kernel several guide kernel developer us...                 39   \n",
       "3    image http img shield io pypi v beet svg targe...                191   \n",
       "4    soundmanager javascript sound web wrapping ext...                305   \n",
       "5    soundjs soundjs library make working audio web...                155   \n",
       "..                                                 ...                ...   \n",
       "104  awesome machine learning awesome http cdn rawg...               3809   \n",
       "107  practical deep learning coder fast ai course l...                 59   \n",
       "108  div align center od sticker http github com yo...                194   \n",
       "110  tensorflow tutorial build status http travis c...                 10   \n",
       "111  update july 12 2016 new free mooc course cover...                 67   \n",
       "\n",
       "     doc_length                                              words  \n",
       "1           423  [movie, application, project, building, single...  \n",
       "2            71  [linux, kernel, several, guide, kernel, develo...  \n",
       "3           532  [image, http, img, shield, io, pypibeet, svg, ...  \n",
       "4           614  [soundmanager, javascript, sound, web, wrappin...  \n",
       "5           355  [soundjs, soundjs, library, make, working, aud...  \n",
       "..          ...                                                ...  \n",
       "104       18096  [awesome, machine, learning, awesome, http, cd...  \n",
       "107          82  [practical, deep, learning, coder, fast, ai, c...  \n",
       "108        2061  [div, align, center, od, sticker, http, github...  \n",
       "110         142  [tensorflow, tutorial, build, status, http, tr...  \n",
       "111         332  [update, july, 12, 2016, new, free, mooc, cour...  \n",
       "\n",
       "[96 rows x 9 columns]"
      ]
     },
     "execution_count": 7,
     "metadata": {},
     "output_type": "execute_result"
    }
   ],
   "source": [
    "df = prepare.prep_data(df, 'readme_contents')\n",
    "df"
   ]
  },
  {
   "cell_type": "markdown",
   "metadata": {},
   "source": [
    "Summarize data"
   ]
  },
  {
   "cell_type": "code",
   "execution_count": 8,
   "metadata": {},
   "outputs": [
    {
     "data": {
      "text/plain": [
       "JavaScript          28\n",
       "Python              17\n",
       "Ruby                12\n",
       "HTML                10\n",
       "C++                  8\n",
       "Jupyter Notebook     6\n",
       "CSS                  4\n",
       "TypeScript           3\n",
       "Scala                2\n",
       "C#                   2\n",
       "C                    2\n",
       "Java                 2\n",
       "Name: language, dtype: int64"
      ]
     },
     "execution_count": 8,
     "metadata": {},
     "output_type": "execute_result"
    }
   ],
   "source": [
    "df.language.value_counts()"
   ]
  },
  {
   "cell_type": "markdown",
   "metadata": {},
   "source": [
    "Split into train, validate, and test."
   ]
  },
  {
   "cell_type": "code",
   "execution_count": 9,
   "metadata": {},
   "outputs": [],
   "source": [
    "train, validate = train_test_split(df, stratify=df.language, test_size=.2, random_state=123)"
   ]
  },
  {
   "cell_type": "code",
   "execution_count": 10,
   "metadata": {},
   "outputs": [
    {
     "data": {
      "text/plain": [
       "(76, 9)"
      ]
     },
     "execution_count": 10,
     "metadata": {},
     "output_type": "execute_result"
    }
   ],
   "source": [
    "train.shape"
   ]
  },
  {
   "cell_type": "code",
   "execution_count": 11,
   "metadata": {},
   "outputs": [
    {
     "data": {
      "text/plain": [
       "JavaScript          22\n",
       "Python              13\n",
       "Ruby                 9\n",
       "HTML                 8\n",
       "C++                  6\n",
       "Jupyter Notebook     5\n",
       "CSS                  3\n",
       "Scala                2\n",
       "C#                   2\n",
       "C                    2\n",
       "Java                 2\n",
       "TypeScript           2\n",
       "Name: language, dtype: int64"
      ]
     },
     "execution_count": 11,
     "metadata": {},
     "output_type": "execute_result"
    }
   ],
   "source": [
    "train.language.value_counts()"
   ]
  },
  {
   "cell_type": "code",
   "execution_count": 12,
   "metadata": {},
   "outputs": [
    {
     "data": {
      "text/plain": [
       "(20, 9)"
      ]
     },
     "execution_count": 12,
     "metadata": {},
     "output_type": "execute_result"
    }
   ],
   "source": [
    "validate.shape"
   ]
  },
  {
   "cell_type": "code",
   "execution_count": 13,
   "metadata": {},
   "outputs": [
    {
     "data": {
      "text/plain": [
       "JavaScript          6\n",
       "Python              4\n",
       "Ruby                3\n",
       "HTML                2\n",
       "C++                 2\n",
       "CSS                 1\n",
       "Jupyter Notebook    1\n",
       "TypeScript          1\n",
       "Name: language, dtype: int64"
      ]
     },
     "execution_count": 13,
     "metadata": {},
     "output_type": "execute_result"
    }
   ],
   "source": [
    "validate.language.value_counts()"
   ]
  },
  {
   "cell_type": "code",
   "execution_count": 14,
   "metadata": {},
   "outputs": [],
   "source": [
    "# create series objects for each top_code_clean that is a string of words joined on spaces to make it 1 continious string  \n",
    "javascript_words = ' '.join(df[df.language=='JavaScript'].clean)\n",
    "python_words = ' '.join(df[df.language=='Python'].clean)\n",
    "ruby_words = ' '.join(df[df.language=='Ruby'].clean)\n",
    "html_words = ' '.join(df[df.language=='HTML'].clean)\n",
    "c_plus_plus_words = ' '.join(df[df.language=='C++'].clean)\n",
    "all_words = ' '.join(df.clean)"
   ]
  },
  {
   "cell_type": "markdown",
   "metadata": {},
   "source": [
    "## Explore\n",
    "\n",
    "Explore the data that you have scraped. Here are some ideas for exploration:\n",
    "\n",
    "- What are the most common words in READMEs?\n",
    "- What does the distribution of IDFs look like for the most common words?\n",
    "- Does the length of the README vary by programming language?\n",
    "- Do different programming languages use a different number of unique words?\n",
    "\n",
    "### What are the most common words in READMEs?"
   ]
  },
  {
   "cell_type": "code",
   "execution_count": 15,
   "metadata": {},
   "outputs": [],
   "source": [
    "javascript_df = pd.DataFrame(javascript_words.split())\n",
    "python_df = pd.DataFrame(python_words.split())\n",
    "ruby_df = pd.DataFrame(ruby_words.split())\n",
    "html_df = pd.DataFrame(html_words.split())\n",
    "c_plus_plus_df = pd.DataFrame(c_plus_plus_words.split())\n",
    "all_words_df = pd.DataFrame(all_words.split())"
   ]
  },
  {
   "cell_type": "code",
   "execution_count": 19,
   "metadata": {},
   "outputs": [
    {
     "data": {
      "text/html": [
       "<div>\n",
       "<style scoped>\n",
       "    .dataframe tbody tr th:only-of-type {\n",
       "        vertical-align: middle;\n",
       "    }\n",
       "\n",
       "    .dataframe tbody tr th {\n",
       "        vertical-align: top;\n",
       "    }\n",
       "\n",
       "    .dataframe thead th {\n",
       "        text-align: right;\n",
       "    }\n",
       "</style>\n",
       "<table border=\"1\" class=\"dataframe\">\n",
       "  <thead>\n",
       "    <tr style=\"text-align: right;\">\n",
       "      <th></th>\n",
       "      <th>0</th>\n",
       "    </tr>\n",
       "  </thead>\n",
       "  <tbody>\n",
       "    <tr>\n",
       "      <th>0</th>\n",
       "      <td>movie</td>\n",
       "    </tr>\n",
       "    <tr>\n",
       "      <th>1</th>\n",
       "      <td>application</td>\n",
       "    </tr>\n",
       "    <tr>\n",
       "      <th>2</th>\n",
       "      <td>project</td>\n",
       "    </tr>\n",
       "    <tr>\n",
       "      <th>3</th>\n",
       "      <td>building</td>\n",
       "    </tr>\n",
       "    <tr>\n",
       "      <th>4</th>\n",
       "      <td>single</td>\n",
       "    </tr>\n",
       "    <tr>\n",
       "      <th>...</th>\n",
       "      <td>...</td>\n",
       "    </tr>\n",
       "    <tr>\n",
       "      <th>13189</th>\n",
       "      <td>data</td>\n",
       "    </tr>\n",
       "    <tr>\n",
       "      <th>13190</th>\n",
       "      <td>repository</td>\n",
       "    </tr>\n",
       "    <tr>\n",
       "      <th>13191</th>\n",
       "      <td>available</td>\n",
       "    </tr>\n",
       "    <tr>\n",
       "      <th>13192</th>\n",
       "      <td>public</td>\n",
       "    </tr>\n",
       "    <tr>\n",
       "      <th>13193</th>\n",
       "      <td>domain</td>\n",
       "    </tr>\n",
       "  </tbody>\n",
       "</table>\n",
       "<p>13194 rows × 1 columns</p>\n",
       "</div>"
      ],
      "text/plain": [
       "                 0\n",
       "0            movie\n",
       "1      application\n",
       "2          project\n",
       "3         building\n",
       "4           single\n",
       "...            ...\n",
       "13189         data\n",
       "13190   repository\n",
       "13191    available\n",
       "13192       public\n",
       "13193       domain\n",
       "\n",
       "[13194 rows x 1 columns]"
      ]
     },
     "execution_count": 19,
     "metadata": {},
     "output_type": "execute_result"
    }
   ],
   "source": [
    "javascript_df"
   ]
  },
  {
   "cell_type": "code",
   "execution_count": 22,
   "metadata": {
    "scrolled": false
   },
   "outputs": [
    {
     "data": {
      "text/plain": [
       "http         558\n",
       "com          409\n",
       "github       219\n",
       "bootstrap    151\n",
       "alex         132\n",
       "dtype: int64"
      ]
     },
     "execution_count": 22,
     "metadata": {},
     "output_type": "execute_result"
    }
   ],
   "source": [
    "javascript_freq = javascript_df.value_counts()\n",
    "python_freq = python_df.value_counts()\n",
    "ruby_freq = ruby_df.value_counts()\n",
    "html_freq = html_df.value_counts()\n",
    "c_plus_plus_freq = c_plus_plus_df.value_counts()\n",
    "all_freq = all_words_df.value_counts()\n",
    "\n",
    "javascript_freq.head()"
   ]
  },
  {
   "cell_type": "markdown",
   "metadata": {},
   "source": [
    "## Model"
   ]
  },
  {
   "cell_type": "code",
   "execution_count": null,
   "metadata": {},
   "outputs": [],
   "source": []
  },
  {
   "cell_type": "markdown",
   "metadata": {},
   "source": [
    "## Conclusions and Takeaways"
   ]
  },
  {
   "cell_type": "code",
   "execution_count": null,
   "metadata": {},
   "outputs": [],
   "source": []
  }
 ],
 "metadata": {
  "kernelspec": {
   "display_name": "Python 3",
   "language": "python",
   "name": "python3"
  },
  "language_info": {
   "codemirror_mode": {
    "name": "ipython",
    "version": 3
   },
   "file_extension": ".py",
   "mimetype": "text/x-python",
   "name": "python",
   "nbconvert_exporter": "python",
   "pygments_lexer": "ipython3",
   "version": "3.8.3"
  }
 },
 "nbformat": 4,
 "nbformat_minor": 4
}
